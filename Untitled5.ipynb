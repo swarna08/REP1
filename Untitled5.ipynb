{
 "cells": [
  {
   "cell_type": "code",
   "execution_count": 2,
   "metadata": {},
   "outputs": [
    {
     "name": "stdout",
     "output_type": "stream",
     "text": [
      "enter a number8\n",
      "enter a number5\n",
      "enter a numberdone\n",
      "13.0 2 8.0 5.0\n"
     ]
    }
   ],
   "source": [
    "count=0\n",
    "total=0\n",
    "largest=None\n",
    "smallest=None\n",
    "\n",
    "while True:\n",
    "    input1=input('enter a number')\n",
    "    if input1=='done':break\n",
    "    try:\n",
    "        number=float(input1)\n",
    "    except:\n",
    "        print('invalid input')\n",
    "        \n",
    "    if largest is None or number > largest:\n",
    "        largest= number\n",
    "    if smallest is None or number < smallest:\n",
    "        smallest= number\n",
    "            \n",
    "    count= count+1\n",
    "    total= total+number\n",
    "    \n",
    "print(total,count,largest,smallest)"
   ]
  },
  {
   "cell_type": "code",
   "execution_count": 3,
   "metadata": {},
   "outputs": [
    {
     "name": "stdout",
     "output_type": "stream",
     "text": [
      "{'y': 1, 'a': 1, 'h': 1, 'o': 3, '.': 1, 'c': 1, 'm': 1}\n"
     ]
    }
   ],
   "source": [
    "#to count the no.of characters in a string say--yahoo.com\n",
    "\n",
    "def char_frequency(str1):\n",
    "    dict={}\n",
    "    for n in str1:\n",
    "        keys= dict.keys()\n",
    "        if n in keys:\n",
    "            dict[n]+=1\n",
    "        else:\n",
    "            dict[n]=1\n",
    "    return dict\n",
    "print(char_frequency('yahoo.com'))"
   ]
  },
  {
   "cell_type": "code",
   "execution_count": 5,
   "metadata": {},
   "outputs": [
    {
     "name": "stdout",
     "output_type": "stream",
     "text": [
      "xycabz\n"
     ]
    }
   ],
   "source": [
    "#to get a single string from two given strings,separated by a space and swap the first two characters of each string\n",
    "\n",
    "def chars_mix_up(a,b):\n",
    "    new_a= b[:2]+ a[2:]\n",
    "    new_b= a[:2]+ b[2:]\n",
    "    return new_a +''+ new_b\n",
    "print(chars_mix_up('abc','xyz'))"
   ]
  },
  {
   "cell_type": "code",
   "execution_count": 6,
   "metadata": {},
   "outputs": [
    {
     "name": "stdout",
     "output_type": "stream",
     "text": [
      "ab\n",
      "ing\n",
      "stringly\n"
     ]
    }
   ],
   "source": [
    "#to add 'ing' at the end of the string if the string size is atleast 3 and 'ly' if the string contains 'ing'\n",
    "\n",
    "def add_string(str1):\n",
    "    length=len(str1)\n",
    "    if length>2:\n",
    "        if str1[-3:]=='ing':\n",
    "            str1+='ly'\n",
    "        else:\n",
    "            str1='ing'\n",
    "            \n",
    "    return str1\n",
    "\n",
    "print(add_string('ab'))\n",
    "print(add_string('abc'))\n",
    "print(add_string('string      '))"
   ]
  },
  {
   "cell_type": "code",
   "execution_count": 16,
   "metadata": {},
   "outputs": [
    {
     "name": "stdout",
     "output_type": "stream",
     "text": [
      "the lyrics is good\n",
      "the lyrics is poor\n"
     ]
    }
   ],
   "source": [
    "# to find the first appearance of the substring 'not' and 'poor ' from the string, if not follows poor replace the whole string with good and replace thye string \n",
    "\n",
    "def not_poor(str1):\n",
    "    snot=str1.find('not')\n",
    "    spoor=str1.find('poor')\n",
    "    \n",
    "    if spoor> snot and snot> 0 and spoor > 0:\n",
    "        str1=str1.replace(str1[snot:(spoor+4)],'good')\n",
    "        return str1\n",
    "    \n",
    "    else:\n",
    "        return str1\n",
    "    \n",
    "print(not_poor('the lyrics is not that poor'))\n",
    "print(not_poor('the lyrics is poor'))\n"
   ]
  },
  {
   "cell_type": "code",
   "execution_count": null,
   "metadata": {},
   "outputs": [],
   "source": []
  }
 ],
 "metadata": {
  "kernelspec": {
   "display_name": "Python 3",
   "language": "python",
   "name": "python3"
  },
  "language_info": {
   "codemirror_mode": {
    "name": "ipython",
    "version": 3
   },
   "file_extension": ".py",
   "mimetype": "text/x-python",
   "name": "python",
   "nbconvert_exporter": "python",
   "pygments_lexer": "ipython3",
   "version": "3.7.0"
  }
 },
 "nbformat": 4,
 "nbformat_minor": 2
}
