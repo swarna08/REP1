{
 "cells": [
  {
   "cell_type": "code",
   "execution_count": 7,
   "metadata": {},
   "outputs": [
    {
     "name": "stdout",
     "output_type": "stream",
     "text": [
      "enter a number5\n",
      "enter a number4\n",
      "enter a number3\n",
      "enter a numberdone\n",
      "12.0 3 3.0\n"
     ]
    }
   ],
   "source": [
    "count=0\n",
    "total=0\n",
    "largest=None\n",
    "smallest=None\n",
    "\n",
    "while True:\n",
    "    input_number=input('enter a number')\n",
    "    if input_number=='done':break\n",
    "    try:\n",
    "        number=float(input_number)\n",
    "    except:\n",
    "        print('invalid input')\n",
    "            \n",
    "    count= count+1\n",
    "    total= total+number\n",
    "    \n",
    "average= total/ number\n",
    "print(total,count,number)"
   ]
  },
  {
   "cell_type": "code",
   "execution_count": null,
   "metadata": {},
   "outputs": [],
   "source": [
    "count=0\n",
    "total=0\n",
    "largest=None\n",
    "smallest=None\n",
    "\n",
    "while True:\n",
    "    input1=input('enter a number')\n",
    "    if input1=='done':break\n",
    "    try:\n",
    "        number=float(input1)\n",
    "    except:\n",
    "        print('invalid input')\n",
    "        \n",
    "    if largest is None or number > largest:\n",
    "        largest= number\n",
    "    if smallest is None or number < smallest:\n",
    "        smallest= number\n",
    "            \n",
    "    count= count+1\n",
    "    total= total+number\n",
    "    \n",
    "print(total,count,largest,smallest)"
   ]
  },
  {
   "cell_type": "code",
   "execution_count": null,
   "metadata": {},
   "outputs": [],
   "source": []
  },
  {
   "cell_type": "code",
   "execution_count": null,
   "metadata": {},
   "outputs": [],
   "source": []
  }
 ],
 "metadata": {
  "kernelspec": {
   "display_name": "Python 3",
   "language": "python",
   "name": "python3"
  },
  "language_info": {
   "codemirror_mode": {
    "name": "ipython",
    "version": 3
   },
   "file_extension": ".py",
   "mimetype": "text/x-python",
   "name": "python",
   "nbconvert_exporter": "python",
   "pygments_lexer": "ipython3",
   "version": "3.7.0"
  }
 },
 "nbformat": 4,
 "nbformat_minor": 2
}
